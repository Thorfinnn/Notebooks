{
 "cells": [
  {
   "cell_type": "code",
   "execution_count": 1,
   "id": "5b2d2f87-d555-43a3-8680-bc8526e4c638",
   "metadata": {},
   "outputs": [
    {
     "name": "stderr",
     "output_type": "stream",
     "text": [
      "C:\\Users\\hp\\.conda\\envs\\tf-gpu\\lib\\site-packages\\tqdm\\auto.py:21: TqdmWarning: IProgress not found. Please update jupyter and ipywidgets. See https://ipywidgets.readthedocs.io/en/stable/user_install.html\n",
      "  from .autonotebook import tqdm as notebook_tqdm\n"
     ]
    },
    {
     "ename": "ModuleNotFoundError",
     "evalue": "No module named 'matplotlib'",
     "output_type": "error",
     "traceback": [
      "\u001b[1;31m---------------------------------------------------------------------------\u001b[0m",
      "\u001b[1;31mModuleNotFoundError\u001b[0m                       Traceback (most recent call last)",
      "Cell \u001b[1;32mIn[1], line 6\u001b[0m\n\u001b[0;32m      4\u001b[0m \u001b[38;5;28;01mfrom\u001b[39;00m \u001b[38;5;21;01mtorchvision\u001b[39;00m\u001b[38;5;21;01m.\u001b[39;00m\u001b[38;5;21;01mutils\u001b[39;00m \u001b[38;5;28;01mimport\u001b[39;00m make_grid\n\u001b[0;32m      5\u001b[0m \u001b[38;5;28;01mfrom\u001b[39;00m \u001b[38;5;21;01mtorch\u001b[39;00m\u001b[38;5;21;01m.\u001b[39;00m\u001b[38;5;21;01mutils\u001b[39;00m\u001b[38;5;21;01m.\u001b[39;00m\u001b[38;5;21;01mdata\u001b[39;00m \u001b[38;5;28;01mimport\u001b[39;00m DataLoader\n\u001b[1;32m----> 6\u001b[0m \u001b[38;5;28;01mimport\u001b[39;00m \u001b[38;5;21;01mmatplotlib\u001b[39;00m\u001b[38;5;21;01m.\u001b[39;00m\u001b[38;5;21;01mpyplot\u001b[39;00m \u001b[38;5;28;01mas\u001b[39;00m \u001b[38;5;21;01mplt\u001b[39;00m\n\u001b[0;32m      7\u001b[0m torch\u001b[38;5;241m.\u001b[39mmanual_seed(\u001b[38;5;241m123\u001b[39m)\n\u001b[0;32m      9\u001b[0m \u001b[38;5;28;01mdef\u001b[39;00m \u001b[38;5;21mshow_tensor_images\u001b[39m(image_tensor,num_images \u001b[38;5;241m=\u001b[39m \u001b[38;5;241m25\u001b[39m , size \u001b[38;5;241m=\u001b[39m (\u001b[38;5;241m3\u001b[39m,\u001b[38;5;241m64\u001b[39m,\u001b[38;5;241m64\u001b[39m)):\n",
      "\u001b[1;31mModuleNotFoundError\u001b[0m: No module named 'matplotlib'"
     ]
    }
   ],
   "source": [
    "import torch\n",
    "from torch import nn\n",
    "from tqdm.auto import tqdm\n",
    "from torchvision.utils import make_grid\n",
    "from torch.utils.data import DataLoader\n",
    "import matplotlib.pyplot as plt\n",
    "torch.manual_seed(123)\n",
    "\n",
    "def show_tensor_images(image_tensor,num_images = 25 , size = (3,64,64)):\n",
    "    image_tensor = (image_tensor + 1)/2\n",
    "    image_unfit = image_tensor.detach().cpu()\n",
    "    image_grid = make_grid(image_unflat[:num_images],nrow=5)\n",
    "    plt.imshow(image_grid.permute(1,2,0),squeeze())\n",
    "    plt.show()\n",
    "    \n",
    "def make_grad_hook():\n",
    "    grads = []\n",
    "    def grad_hook(m):\n",
    "        if isinstance(m,nn.Conv2d) or isinstance(m,nn.ConvTranspose2d):\n",
    "            grads.append(m.weight.grad)\n",
    "    return grads, grad_hook"
   ]
  },
  {
   "cell_type": "code",
   "execution_count": 3,
   "id": "8ca0c3f7-dbd4-41c5-a7c3-270d49345133",
   "metadata": {},
   "outputs": [
    {
     "name": "stdout",
     "output_type": "stream",
     "text": [
      "Collecting torchsummary\n",
      "  Downloading torchsummary-1.5.1-py3-none-any.whl (2.8 kB)\n",
      "Installing collected packages: torchsummary\n",
      "Successfully installed torchsummary-1.5.1\n"
     ]
    }
   ],
   "source": [
    "!pip install torchsummary"
   ]
  },
  {
   "cell_type": "code",
   "execution_count": 4,
   "id": "cef89fb7-0624-4eed-bd15-111a55993236",
   "metadata": {},
   "outputs": [],
   "source": [
    "class Encoder(nn.Module):\n",
    "    def __init__(self,z_dim=256,im_chan = 3, hidden_dim = 224):\n",
    "        super(Encoder,self).__init__()\n",
    "        self.z_dim = z_dim\n",
    "        self.encoder = nn.Sequential(\n",
    "            self.make_encoder_block(3,64,kernel_size=3),\n",
    "            self.make_encoder_block(64,64,kernel_size=3),\n",
    "            nn.MaxPool2d(kernel_size=2,stride=2),\n",
    "            self.make_encoder_block(64,128,kernel_size=3),\n",
    "            self.make_encoder_block(128,128,kernel_size=3),\n",
    "            nn.MaxPool2d(kernel_size=2,stride=2),\n",
    "            self.make_encoder_block(128,256,kernel_size=3),\n",
    "            self.make_encoder_block(256,256,kernel_size=3),\n",
    "            self.make_encoder_block(256,256,kernel_size=3),\n",
    "            nn.MaxPool2d(kernel_size=2,stride=2),\n",
    "            self.make_encoder_block(256,512,kernel_size=3),\n",
    "            self.make_encoder_block(512,512,kernel_size=3),\n",
    "            self.make_encoder_block(512,512,kernel_size=3),\n",
    "            nn.MaxPool2d(kernel_size=2,stride=2),\n",
    "            self.make_encoder_block(512,512,kernel_size=3),\n",
    "            self.make_encoder_block(512,512,kernel_size=3),\n",
    "            self.make_encoder_block(512,512,kernel_size=3),\n",
    "            nn.MaxPool2d(kernel_size = 2,stride = 2),\n",
    "            nn.Flatten(),\n",
    "            nn.Linear(7*7*512,4096),\n",
    "            nn.Linear(4096,4096),\n",
    "            nn.Linear(4096,z_dim)\n",
    "        )\n",
    "        \n",
    "    def make_encoder_block(self,input_channels,output_channels,kernel_size=3):\n",
    "        return nn.Sequential(\n",
    "            nn.Conv2d(input_channels,output_channels,kernel_size = kernel_size, padding = 1),\n",
    "            nn.LeakyReLU(0.2,inplace = True),\n",
    "        )\n",
    "    \n",
    "    def forward(self,image):\n",
    "        return self.encoder(image)"
   ]
  },
  {
   "cell_type": "code",
   "execution_count": 8,
   "id": "a17f71b6-f3f1-4d53-9ae0-cd46f96410bb",
   "metadata": {},
   "outputs": [
    {
     "name": "stdout",
     "output_type": "stream",
     "text": [
      "----------------------------------------------------------------\n",
      "        Layer (type)               Output Shape         Param #\n",
      "================================================================\n",
      "            Conv2d-1         [-1, 64, 224, 224]           1,792\n",
      "         LeakyReLU-2         [-1, 64, 224, 224]               0\n",
      "            Conv2d-3         [-1, 64, 224, 224]          36,928\n",
      "         LeakyReLU-4         [-1, 64, 224, 224]               0\n",
      "         MaxPool2d-5         [-1, 64, 112, 112]               0\n",
      "            Conv2d-6        [-1, 128, 112, 112]          73,856\n",
      "         LeakyReLU-7        [-1, 128, 112, 112]               0\n",
      "            Conv2d-8        [-1, 128, 112, 112]         147,584\n",
      "         LeakyReLU-9        [-1, 128, 112, 112]               0\n",
      "        MaxPool2d-10          [-1, 128, 56, 56]               0\n",
      "           Conv2d-11          [-1, 256, 56, 56]         295,168\n",
      "        LeakyReLU-12          [-1, 256, 56, 56]               0\n",
      "           Conv2d-13          [-1, 256, 56, 56]         590,080\n",
      "        LeakyReLU-14          [-1, 256, 56, 56]               0\n",
      "           Conv2d-15          [-1, 256, 56, 56]         590,080\n",
      "        LeakyReLU-16          [-1, 256, 56, 56]               0\n",
      "        MaxPool2d-17          [-1, 256, 28, 28]               0\n",
      "           Conv2d-18          [-1, 512, 28, 28]       1,180,160\n",
      "        LeakyReLU-19          [-1, 512, 28, 28]               0\n",
      "           Conv2d-20          [-1, 512, 28, 28]       2,359,808\n",
      "        LeakyReLU-21          [-1, 512, 28, 28]               0\n",
      "           Conv2d-22          [-1, 512, 28, 28]       2,359,808\n",
      "        LeakyReLU-23          [-1, 512, 28, 28]               0\n",
      "        MaxPool2d-24          [-1, 512, 14, 14]               0\n",
      "           Conv2d-25          [-1, 512, 14, 14]       2,359,808\n",
      "        LeakyReLU-26          [-1, 512, 14, 14]               0\n",
      "           Conv2d-27          [-1, 512, 14, 14]       2,359,808\n",
      "        LeakyReLU-28          [-1, 512, 14, 14]               0\n",
      "           Conv2d-29          [-1, 512, 14, 14]       2,359,808\n",
      "        LeakyReLU-30          [-1, 512, 14, 14]               0\n",
      "        MaxPool2d-31            [-1, 512, 7, 7]               0\n",
      "          Flatten-32                [-1, 25088]               0\n",
      "           Linear-33                 [-1, 4096]     102,764,544\n",
      "           Linear-34                 [-1, 4096]      16,781,312\n",
      "           Linear-35                  [-1, 256]       1,048,832\n",
      "================================================================\n",
      "Total params: 135,309,376\n",
      "Trainable params: 135,309,376\n",
      "Non-trainable params: 0\n",
      "----------------------------------------------------------------\n",
      "Input size (MB): 0.57\n",
      "Forward/backward pass size (MB): 218.65\n",
      "Params size (MB): 516.16\n",
      "Estimated Total Size (MB): 735.39\n",
      "----------------------------------------------------------------\n"
     ]
    }
   ],
   "source": [
    "from torchsummary import summary\n",
    "device = torch.device('cuda')\n",
    "encoder = Encoder()\n",
    "encoder = encoder.to(device)\n",
    "summary(encoder,(3,224,224))"
   ]
  },
  {
   "cell_type": "code",
   "execution_count": 71,
   "id": "54d44707-301f-4b1f-acc8-1dc51b580adb",
   "metadata": {},
   "outputs": [],
   "source": [
    "class Decoder(nn.Module):\n",
    "    def __init__(self,z_dim=256,im_chan = 3, hidden_dim=224):\n",
    "        super(Decoder,self).__init__()\n",
    "        self.z_dim = z_dim\n",
    "        self.decoder = nn.Sequential(\n",
    "            nn.Linear(z_dim,4096),\n",
    "            nn.LeakyReLU(0.2),\n",
    "            nn.Linear(4096,25088),\n",
    "            nn.LeakyReLU(0.2),\n",
    "            nn.Unflatten(1,(512,7,7)),\n",
    "            self.make_decoder_block(512,512,output_padding = 1),\n",
    "            self.make_decoder_block(512,512),\n",
    "            self.make_decoder_block(512,512),\n",
    "            self.make_decoder_block(512,512,output_padding=1),\n",
    "            self.make_decoder_block(512,512),\n",
    "            self.make_decoder_block(512,512),\n",
    "            self.make_decoder_block(512,256,output_padding = 1),\n",
    "            self.make_decoder_block(256,256),\n",
    "            self.make_decoder_block(256,128,output_padding = 1),\n",
    "            self.make_decoder_block(128,64,output_padding = 1),\n",
    "            nn.ConvTranspose2d(64,im_chan,kernel_size = 3,stride = 1,padding = 1),\n",
    "            nn.Tanh()\n",
    "        )\n",
    "        \n",
    "    def make_decoder_block(self,input_dim,output_dim,kernel_size=3,output_padding = None):\n",
    "        if output_padding:\n",
    "            return nn.Sequential(\n",
    "                nn.ConvTranspose2d(input_dim,output_dim,kernel_size = kernel_size,stride=2,padding = 1,output_padding = output_padding),\n",
    "                nn.BatchNorm2d(output_dim),\n",
    "                nn.LeakyReLU(0.2)\n",
    "            )\n",
    "        else:\n",
    "            return nn.Sequential(\n",
    "                nn.ConvTranspose2d(input_dim,output_dim,kernel_size = kernel_size,stride=1,padding = 1),\n",
    "                nn.BatchNorm2d(output_dim),\n",
    "                nn.LeakyReLU(0.2)\n",
    "            )\n",
    "        \n",
    "    def forward(self,z):\n",
    "        x = self.decoder(z)\n",
    "        return x"
   ]
  },
  {
   "cell_type": "code",
   "execution_count": 97,
   "id": "77c6dd8a-02b5-41c8-946a-41b54a72e687",
   "metadata": {},
   "outputs": [
    {
     "name": "stdout",
     "output_type": "stream",
     "text": [
      "----------------------------------------------------------------\n",
      "        Layer (type)               Output Shape         Param #\n",
      "================================================================\n",
      "            Linear-1                 [-1, 4096]       1,052,672\n",
      "         LeakyReLU-2                 [-1, 4096]               0\n",
      "            Linear-3                [-1, 25088]     102,785,536\n",
      "         LeakyReLU-4                [-1, 25088]               0\n",
      "         Unflatten-5            [-1, 512, 7, 7]               0\n",
      "   ConvTranspose2d-6          [-1, 512, 14, 14]       2,359,808\n",
      "       BatchNorm2d-7          [-1, 512, 14, 14]           1,024\n",
      "         LeakyReLU-8          [-1, 512, 14, 14]               0\n",
      "   ConvTranspose2d-9          [-1, 512, 14, 14]       2,359,808\n",
      "      BatchNorm2d-10          [-1, 512, 14, 14]           1,024\n",
      "        LeakyReLU-11          [-1, 512, 14, 14]               0\n",
      "  ConvTranspose2d-12          [-1, 512, 14, 14]       2,359,808\n",
      "      BatchNorm2d-13          [-1, 512, 14, 14]           1,024\n",
      "        LeakyReLU-14          [-1, 512, 14, 14]               0\n",
      "  ConvTranspose2d-15          [-1, 512, 28, 28]       2,359,808\n",
      "      BatchNorm2d-16          [-1, 512, 28, 28]           1,024\n",
      "        LeakyReLU-17          [-1, 512, 28, 28]               0\n",
      "  ConvTranspose2d-18          [-1, 512, 28, 28]       2,359,808\n",
      "      BatchNorm2d-19          [-1, 512, 28, 28]           1,024\n",
      "        LeakyReLU-20          [-1, 512, 28, 28]               0\n",
      "  ConvTranspose2d-21          [-1, 512, 28, 28]       2,359,808\n",
      "      BatchNorm2d-22          [-1, 512, 28, 28]           1,024\n",
      "        LeakyReLU-23          [-1, 512, 28, 28]               0\n",
      "  ConvTranspose2d-24          [-1, 256, 56, 56]       1,179,904\n",
      "      BatchNorm2d-25          [-1, 256, 56, 56]             512\n",
      "        LeakyReLU-26          [-1, 256, 56, 56]               0\n",
      "  ConvTranspose2d-27          [-1, 256, 56, 56]         590,080\n",
      "      BatchNorm2d-28          [-1, 256, 56, 56]             512\n",
      "        LeakyReLU-29          [-1, 256, 56, 56]               0\n",
      "  ConvTranspose2d-30        [-1, 128, 112, 112]         295,040\n",
      "      BatchNorm2d-31        [-1, 128, 112, 112]             256\n",
      "        LeakyReLU-32        [-1, 128, 112, 112]               0\n",
      "  ConvTranspose2d-33         [-1, 64, 224, 224]          73,792\n",
      "      BatchNorm2d-34         [-1, 64, 224, 224]             128\n",
      "        LeakyReLU-35         [-1, 64, 224, 224]               0\n",
      "  ConvTranspose2d-36          [-1, 3, 224, 224]           1,731\n",
      "             Tanh-37          [-1, 3, 224, 224]               0\n",
      "================================================================\n",
      "Total params: 120,145,155\n",
      "Trainable params: 120,145,155\n",
      "Non-trainable params: 0\n",
      "----------------------------------------------------------------\n",
      "Input size (MB): 0.00\n",
      "Forward/backward pass size (MB): 184.39\n",
      "Params size (MB): 458.32\n",
      "Estimated Total Size (MB): 642.71\n",
      "----------------------------------------------------------------\n"
     ]
    }
   ],
   "source": [
    "encoder = encoder.to('cpu')\n",
    "decoder = Decoder()\n",
    "decoder = decoder.to('cpu')\n",
    "summary(decoder,(256,),device = 'cpu')"
   ]
  },
  {
   "cell_type": "code",
   "execution_count": 94,
   "id": "b8b333f1-efa2-4316-b18e-9e44c1f4b77e",
   "metadata": {},
   "outputs": [],
   "source": [
    "torch.cuda.empty_cache()"
   ]
  },
  {
   "cell_type": "code",
   "execution_count": null,
   "id": "850c2f4c-53bd-4361-a992-f43d402a3efb",
   "metadata": {},
   "outputs": [],
   "source": []
  }
 ],
 "metadata": {
  "kernelspec": {
   "display_name": "Python 3 (ipykernel)",
   "language": "python",
   "name": "python3"
  },
  "language_info": {
   "codemirror_mode": {
    "name": "ipython",
    "version": 3
   },
   "file_extension": ".py",
   "mimetype": "text/x-python",
   "name": "python",
   "nbconvert_exporter": "python",
   "pygments_lexer": "ipython3",
   "version": "3.8.13"
  }
 },
 "nbformat": 4,
 "nbformat_minor": 5
}
